{
 "cells": [
  {
   "cell_type": "markdown",
   "metadata": {},
   "source": [
    "# Libraries"
   ]
  },
  {
   "cell_type": "code",
   "execution_count": null,
   "metadata": {},
   "outputs": [],
   "source": [
    "import plotly.figure_factory as ff\n",
    "\n",
    "df = [dict(Task=\"Presenciar cirugías\", Start='2019-12-05', Finish='2019-12-25'),\n",
    "      dict(Task=\"Revisión literatura\", Start='2020-02-05', Finish='2020-10-15'),\n",
    "      dict(Task=\"Preselección imágenes\", Start='2020-06-20', Finish='2020-12-05'),\n",
    "      dict(Task=\"Preprocesado imágenes\", Start='2020-05-05', Finish='2021-02-15'),\n",
    "      dict(Task=\"Análisis descriptivo\", Start='2021-01-10', Finish='2021-04-15'),\n",
    "      dict(Task=\"Diseño algoritmos\", Start='2020-10-05', Finish='2021-06-15'),\n",
    "      dict(Task=\"Discusión resultados\", Start='2021-03-05', Finish='2021-08-30'),\n",
    "      dict(Task=\"Redacción memoria\", Start='2021-04-05', Finish='2021-09-01')]\n",
    "\n",
    "fig = ff.create_gantt(df)\n",
    "fig.show()"
   ]
  },
  {
   "cell_type": "code",
   "execution_count": null,
   "metadata": {},
   "outputs": [],
   "source": [
    "%matplotlib notebook\n",
    "import matplotlib.pyplot as plt\n",
    "import numpy as np\n",
    "import Photothrombosis_Module as pt\n",
    "import pickle"
   ]
  },
  {
   "cell_type": "markdown",
   "metadata": {},
   "source": [
    "# Load Images"
   ]
  },
  {
   "cell_type": "code",
   "execution_count": null,
   "metadata": {},
   "outputs": [],
   "source": [
    "Data_dir = 'C:/Users/pedro/Coding/Phototrombosis(Practicas)/TFG/Final_Code/'"
   ]
  },
  {
   "cell_type": "markdown",
   "metadata": {},
   "source": [
    "### ·Sham"
   ]
  },
  {
   "cell_type": "code",
   "execution_count": null,
   "metadata": {},
   "outputs": [],
   "source": [
    "path = Data_dir + 'Sham'\n",
    "O, filename_O = pt.GetImagesJpg(path)"
   ]
  },
  {
   "cell_type": "markdown",
   "metadata": {},
   "source": [
    "### ·Ischemia Group"
   ]
  },
  {
   "cell_type": "code",
   "execution_count": null,
   "metadata": {},
   "outputs": [],
   "source": [
    "path = Data_dir + 'Original_Images/Ischemia/Ischemia1'\n",
    "A, filename_A = pt.GetImagesJpg(path)"
   ]
  },
  {
   "cell_type": "markdown",
   "metadata": {},
   "source": [
    "### ·Postcon_1 Group"
   ]
  },
  {
   "cell_type": "code",
   "execution_count": null,
   "metadata": {},
   "outputs": [],
   "source": [
    "#Postcon 1 Group (B)\n",
    "path = Data_dir + 'Original_Images/Postcon_1/P12-1'\n",
    "B, filename_B = pt.GetImagesJpg(path)"
   ]
  },
  {
   "cell_type": "markdown",
   "metadata": {},
   "source": [
    "### ·Postcon_2 Group"
   ]
  },
  {
   "cell_type": "code",
   "execution_count": null,
   "metadata": {},
   "outputs": [],
   "source": [
    "#Postcon 2 Group (C)\n",
    "path = Data_dir + 'Original_Images/Postcon_2/P15-3'\n",
    "C, filename_C = pt.GetImagesJpg(path)"
   ]
  },
  {
   "cell_type": "markdown",
   "metadata": {},
   "source": [
    "# Images"
   ]
  },
  {
   "cell_type": "code",
   "execution_count": null,
   "metadata": {
    "scrolled": true
   },
   "outputs": [],
   "source": [
    "plt.figure()\n",
    "for i in range(len(O)):\n",
    "        plt.subplot(4,4,i+1), plt.imshow(O[i],'gray'), plt.title(filename_O[i])\n",
    "plt.suptitle('Sham', fontsize=16)"
   ]
  },
  {
   "cell_type": "code",
   "execution_count": null,
   "metadata": {
    "scrolled": false
   },
   "outputs": [],
   "source": [
    "plt.figure()\n",
    "for i in range(len(A)):\n",
    "        plt.subplot(5,4,i+1), plt.imshow(A[i],'gray'), plt.title(filename_A[i])\n",
    "plt.suptitle('Ischemia', fontsize=16)"
   ]
  },
  {
   "cell_type": "code",
   "execution_count": null,
   "metadata": {
    "scrolled": false
   },
   "outputs": [],
   "source": [
    "plt.figure()\n",
    "for i in range(len(B)):\n",
    "        plt.subplot(5,4,i+1), plt.imshow(B[i],'gray'), plt.title(filename_B[i])\n",
    "plt.suptitle('Postcon 1', fontsize=16)"
   ]
  },
  {
   "cell_type": "code",
   "execution_count": null,
   "metadata": {
    "scrolled": false
   },
   "outputs": [],
   "source": [
    "plt.figure()\n",
    "for i in range(len(C)):\n",
    "        plt.subplot(4,4,i+1), plt.imshow(C[i],'gray'), plt.title(filename_C[i])\n",
    "plt.suptitle('Postcon 2', fontsize=16)"
   ]
  },
  {
   "cell_type": "markdown",
   "metadata": {},
   "source": [
    "# Histograms"
   ]
  },
  {
   "cell_type": "markdown",
   "metadata": {},
   "source": [
    "### ·Sham"
   ]
  },
  {
   "cell_type": "code",
   "execution_count": null,
   "metadata": {
    "scrolled": true
   },
   "outputs": [],
   "source": [
    "#Plot original images and their Histogram (O)\n",
    "plt.figure()\n",
    "for i in range(len(O)):\n",
    "        histo = O[i][O[i] != 0]\n",
    "        plt.subplot(4,4,i+1), plt.hist(histo[histo != 255].ravel(), 256), plt.title(filename_O[i])\n",
    "plt.suptitle('Sham', fontsize=16)"
   ]
  },
  {
   "cell_type": "markdown",
   "metadata": {},
   "source": [
    "### ·Ischemia"
   ]
  },
  {
   "cell_type": "code",
   "execution_count": null,
   "metadata": {
    "scrolled": true
   },
   "outputs": [],
   "source": [
    "#Plot original images and their Histogram (A)\n",
    "plt.figure()\n",
    "for i in range(len(A)):\n",
    "        histo = A[i][A[i] != 0]\n",
    "        plt.subplot(5,4,i+1), plt.hist(histo[histo != 255].ravel(), 256), plt.title(filename_A[i])\n",
    "plt.suptitle('Ischemia', fontsize=16)"
   ]
  },
  {
   "cell_type": "markdown",
   "metadata": {},
   "source": [
    "### ·Postcon_1"
   ]
  },
  {
   "cell_type": "code",
   "execution_count": null,
   "metadata": {
    "scrolled": true
   },
   "outputs": [],
   "source": [
    "#Plot original images and their Histogram (B)\n",
    "plt.figure()\n",
    "for i in range(len(B)):\n",
    "        histo = B[i][B[i] != 0]\n",
    "        plt.subplot(4,4,i+1), plt.hist(histo[histo != 255].ravel(), 256), plt.title(filename_B[i])\n",
    "plt.suptitle('Postcon1', fontsize=16)"
   ]
  },
  {
   "cell_type": "markdown",
   "metadata": {},
   "source": [
    "### ·Postcon_2"
   ]
  },
  {
   "cell_type": "code",
   "execution_count": null,
   "metadata": {
    "scrolled": true
   },
   "outputs": [],
   "source": [
    "#Plot original images and their Histogram (C)\n",
    "plt.figure()\n",
    "for i in range(len(C)):\n",
    "        histo = C[i][C[i] != 0]\n",
    "        plt.subplot(4,4,i+1), plt.hist(histo[histo != 255].ravel(), 256), plt.title(filename_C[i])\n",
    "plt.suptitle('Postcon2', fontsize=16)"
   ]
  },
  {
   "cell_type": "markdown",
   "metadata": {},
   "source": [
    "# Filtering"
   ]
  },
  {
   "cell_type": "markdown",
   "metadata": {},
   "source": [
    "### Ischemia"
   ]
  },
  {
   "cell_type": "code",
   "execution_count": null,
   "metadata": {
    "scrolled": false
   },
   "outputs": [],
   "source": [
    "pt.Filtering(A[0], filename_A[0])\n",
    "pt.Filtering(A[1], filename_A[1])\n",
    "pt.Filtering(A[5], filename_A[5])"
   ]
  },
  {
   "cell_type": "markdown",
   "metadata": {},
   "source": [
    "### Postcon1"
   ]
  },
  {
   "cell_type": "code",
   "execution_count": null,
   "metadata": {
    "scrolled": false
   },
   "outputs": [],
   "source": [
    "pt.Filtering(B[0], filename_B[0])\n",
    "pt.Filtering(B[1], filename_B[1])\n",
    "pt.Filtering(B[5], filename_B[5])"
   ]
  },
  {
   "cell_type": "markdown",
   "metadata": {},
   "source": [
    "### Postcon2"
   ]
  },
  {
   "cell_type": "code",
   "execution_count": null,
   "metadata": {
    "scrolled": false
   },
   "outputs": [],
   "source": [
    "pt.Filtering(C[0], filename_C[0])\n",
    "pt.Filtering(C[1], filename_C[1])\n",
    "pt.Filtering(C[5], filename_C[5])"
   ]
  },
  {
   "cell_type": "markdown",
   "metadata": {},
   "source": [
    "# Processed Images"
   ]
  },
  {
   "cell_type": "markdown",
   "metadata": {},
   "source": [
    "### ·Sham"
   ]
  },
  {
   "cell_type": "code",
   "execution_count": null,
   "metadata": {
    "scrolled": true
   },
   "outputs": [],
   "source": [
    "#Processing stages images\n",
    "Cores_O, Deeps_O, Surf_O, Comp_O = pt.Ischemia_Cores(O, filename_O)"
   ]
  },
  {
   "cell_type": "markdown",
   "metadata": {},
   "source": [
    "### ·Ischemia"
   ]
  },
  {
   "cell_type": "code",
   "execution_count": null,
   "metadata": {
    "scrolled": true
   },
   "outputs": [],
   "source": [
    "#Processing stages images\n",
    "Cores_A, Deeps_A, Surf_A, Comp_A = pt.Ischemia_Cores(A, filename_A)"
   ]
  },
  {
   "cell_type": "markdown",
   "metadata": {},
   "source": [
    "### ·Postcon_1"
   ]
  },
  {
   "cell_type": "code",
   "execution_count": null,
   "metadata": {
    "scrolled": true
   },
   "outputs": [],
   "source": [
    "#Processing stages images\n",
    "Cores_B, Deeps_B, Surf_B, Comp_B = pt.Ischemia_Cores(B, filename_B)"
   ]
  },
  {
   "cell_type": "markdown",
   "metadata": {},
   "source": [
    "### ·Postcon_2"
   ]
  },
  {
   "cell_type": "code",
   "execution_count": null,
   "metadata": {
    "scrolled": true
   },
   "outputs": [],
   "source": [
    "Cores_C, Deeps_C, Surf_C, Comp_C = pt.Ischemia_Cores(C, filename_C)"
   ]
  },
  {
   "cell_type": "markdown",
   "metadata": {},
   "source": [
    "# Surf Info"
   ]
  },
  {
   "cell_type": "code",
   "execution_count": null,
   "metadata": {},
   "outputs": [],
   "source": [
    "import cv2"
   ]
  },
  {
   "cell_type": "code",
   "execution_count": null,
   "metadata": {},
   "outputs": [],
   "source": [
    "plt.figure()\n",
    "\n",
    "#Original Images\n",
    "plt.subplot(231), plt.imshow(O[0], 'gray'), plt.title(filename_O[0]),\n",
    "plt.subplot(232), plt.imshow(O[1], 'gray'), plt.title(filename_O[1]),\n",
    "plt.subplot(233), plt.imshow(O[5], 'gray'), plt.title(filename_O[5]),\n",
    "\n",
    "#Surface Images\n",
    "plt.subplot(234), plt.imshow(Surf_O[0],'gray'),\n",
    "plt.subplot(235), plt.imshow(Surf_O[1],'gray'),\n",
    "plt.subplot(236), plt.imshow(Surf_O[5],'gray'),\n",
    "\n",
    "#Title\n",
    "plt.suptitle('Sham Surface Information', fontsize=16)\n",
    "\n",
    "plt.show()"
   ]
  },
  {
   "cell_type": "code",
   "execution_count": null,
   "metadata": {},
   "outputs": [],
   "source": [
    "plt.figure()\n",
    "\n",
    "#Original Images\n",
    "plt.subplot(231), plt.imshow(A[0], 'gray'), plt.title(filename_A[0]),\n",
    "plt.subplot(232), plt.imshow(A[1], 'gray'), plt.title(filename_A[1]),\n",
    "plt.subplot(233), plt.imshow(A[5], 'gray'), plt.title(filename_A[5]),\n",
    "\n",
    "#Surface Images\n",
    "plt.subplot(234), plt.imshow(Surf_A[0],'gray'),\n",
    "plt.subplot(235), plt.imshow(Surf_A[1],'gray'),\n",
    "plt.subplot(236), plt.imshow(Surf_A[5],'gray'),\n",
    "\n",
    "#Title\n",
    "plt.suptitle('Ischemia Surface Information', fontsize=16)\n",
    "\n",
    "plt.show()"
   ]
  },
  {
   "cell_type": "code",
   "execution_count": null,
   "metadata": {},
   "outputs": [],
   "source": [
    "plt.figure()\n",
    "\n",
    "#Original Images\n",
    "plt.subplot(231), plt.imshow(B[0], 'gray'), plt.title(filename_B[0]),\n",
    "plt.subplot(232), plt.imshow(B[1], 'gray'), plt.title(filename_B[1]),\n",
    "plt.subplot(233), plt.imshow(B[5], 'gray'), plt.title(filename_B[5]),\n",
    "\n",
    "#Surface Images\n",
    "plt.subplot(234), plt.imshow(Surf_B[0],'gray'),\n",
    "plt.subplot(235), plt.imshow(Surf_B[1],'gray'),\n",
    "plt.subplot(236), plt.imshow(Surf_B[5],'gray'),\n",
    "\n",
    "#Title\n",
    "plt.suptitle('Postcon1 Surface Information', fontsize=16)\n",
    "\n",
    "plt.show()"
   ]
  },
  {
   "cell_type": "code",
   "execution_count": null,
   "metadata": {},
   "outputs": [],
   "source": [
    "plt.figure()\n",
    "\n",
    "#Original Images\n",
    "plt.subplot(231), plt.imshow(C[0], 'gray'), plt.title(filename_C[0]),\n",
    "plt.subplot(232), plt.imshow(C[1], 'gray'), plt.title(filename_C[1]),\n",
    "plt.subplot(233), plt.imshow(C[5], 'gray'), plt.title(filename_C[5]),\n",
    "\n",
    "#Surface Images\n",
    "plt.subplot(234), plt.imshow(Surf_C[0],'gray'),\n",
    "plt.subplot(235), plt.imshow(Surf_C[1],'gray'),\n",
    "plt.subplot(236), plt.imshow(Surf_C[5],'gray'),\n",
    "\n",
    "#Title\n",
    "plt.suptitle('Postcon2 Surface Information', fontsize=16)\n",
    "\n",
    "plt.show()"
   ]
  },
  {
   "cell_type": "markdown",
   "metadata": {},
   "source": [
    "# Deep Info"
   ]
  },
  {
   "cell_type": "code",
   "execution_count": null,
   "metadata": {},
   "outputs": [],
   "source": [
    "plt.figure()\n",
    "\n",
    "#Original Images\n",
    "plt.subplot(231), plt.imshow(O[0], 'gray'), plt.title(filename_O[0]),\n",
    "plt.subplot(232), plt.imshow(O[1], 'gray'), plt.title(filename_O[1]),\n",
    "plt.subplot(233), plt.imshow(O[5], 'gray'), plt.title(filename_O[5]),\n",
    "\n",
    "#Deep Images\n",
    "plt.subplot(234), plt.imshow(Deeps_O[0],'gray'),\n",
    "plt.subplot(235), plt.imshow(Deeps_O[1],'gray'),\n",
    "plt.subplot(236), plt.imshow(Deeps_O[5],'gray'),\n",
    "\n",
    "#Title\n",
    "plt.suptitle('Sham Deep Information', fontsize=16)\n",
    "\n",
    "plt.show()"
   ]
  },
  {
   "cell_type": "code",
   "execution_count": null,
   "metadata": {},
   "outputs": [],
   "source": [
    "plt.figure()\n",
    "\n",
    "#Original Images\n",
    "plt.subplot(231), plt.imshow(A[0], 'gray'), plt.title(filename_A[0]),\n",
    "plt.subplot(232), plt.imshow(A[1], 'gray'), plt.title(filename_A[1]),\n",
    "plt.subplot(233), plt.imshow(A[5], 'gray'), plt.title(filename_A[5]),\n",
    "\n",
    "#Deep Images\n",
    "plt.subplot(234), plt.imshow(Deeps_A[0],'gray'),\n",
    "plt.subplot(235), plt.imshow(Deeps_A[1],'gray'),\n",
    "plt.subplot(236), plt.imshow(Deeps_A[5],'gray'),\n",
    "\n",
    "#Title\n",
    "plt.suptitle('Ischemia Deep Information', fontsize=16)\n",
    "\n",
    "plt.show()"
   ]
  },
  {
   "cell_type": "code",
   "execution_count": null,
   "metadata": {},
   "outputs": [],
   "source": [
    "plt.figure()\n",
    "\n",
    "#Original Images\n",
    "plt.subplot(231), plt.imshow(B[0], 'gray'), plt.title(filename_B[0]),\n",
    "plt.subplot(232), plt.imshow(B[1], 'gray'), plt.title(filename_B[1]),\n",
    "plt.subplot(233), plt.imshow(B[5], 'gray'), plt.title(filename_B[5]),\n",
    "\n",
    "#Deep Images\n",
    "plt.subplot(234), plt.imshow(Deeps_B[0],'gray'),\n",
    "plt.subplot(235), plt.imshow(Deeps_B[1],'gray'),\n",
    "plt.subplot(236), plt.imshow(Deeps_B[5],'gray'),\n",
    "\n",
    "#Title\n",
    "plt.suptitle('Postcon1 Deep Information', fontsize=16)\n",
    "\n",
    "plt.show()"
   ]
  },
  {
   "cell_type": "code",
   "execution_count": null,
   "metadata": {},
   "outputs": [],
   "source": [
    "plt.figure()\n",
    "\n",
    "#Original Images\n",
    "plt.subplot(231), plt.imshow(C[0], 'gray'), plt.title(filename_C[0]),\n",
    "plt.subplot(232), plt.imshow(C[1], 'gray'), plt.title(filename_C[1]),\n",
    "plt.subplot(233), plt.imshow(C[5], 'gray'), plt.title(filename_C[5]),\n",
    "\n",
    "#Deep Images\n",
    "plt.subplot(234), plt.imshow(Deeps_C[0],'gray'),\n",
    "plt.subplot(235), plt.imshow(Deeps_C[1],'gray'),\n",
    "plt.subplot(236), plt.imshow(Deeps_C[5],'gray'),\n",
    "\n",
    "#Title\n",
    "plt.suptitle('Postcon2 Deep Information', fontsize=16)\n",
    "\n",
    "plt.show()"
   ]
  },
  {
   "cell_type": "markdown",
   "metadata": {},
   "source": [
    "# Cores Info"
   ]
  },
  {
   "cell_type": "code",
   "execution_count": null,
   "metadata": {},
   "outputs": [],
   "source": [
    "plt.figure()\n",
    "\n",
    "#Original Images\n",
    "plt.subplot(231), plt.imshow(O[0], 'gray'), plt.title(filename_O[0]),\n",
    "plt.subplot(232), plt.imshow(O[1], 'gray'), plt.title(filename_O[1]),\n",
    "plt.subplot(233), plt.imshow(O[5], 'gray'), plt.title(filename_O[5]),\n",
    "\n",
    "#Deep Images\n",
    "plt.subplot(234), plt.imshow(Cores_O[0],'gray'),\n",
    "plt.subplot(235), plt.imshow(Cores_O[1],'gray'),\n",
    "plt.subplot(236), plt.imshow(Cores_O[5],'gray'),\n",
    "\n",
    "#Title\n",
    "plt.suptitle('Sham Core Information', fontsize=16)\n",
    "\n",
    "plt.show()"
   ]
  },
  {
   "cell_type": "code",
   "execution_count": null,
   "metadata": {},
   "outputs": [],
   "source": [
    "plt.figure()\n",
    "\n",
    "#Original Images\n",
    "plt.subplot(231), plt.imshow(A[0], 'gray'), plt.title(filename_A[0]),\n",
    "plt.subplot(232), plt.imshow(A[1], 'gray'), plt.title(filename_A[1]),\n",
    "plt.subplot(233), plt.imshow(A[5], 'gray'), plt.title(filename_A[5]),\n",
    "\n",
    "#Deep Images\n",
    "plt.subplot(234), plt.imshow(Cores_A[0],'gray'),\n",
    "plt.subplot(235), plt.imshow(Cores_A[1],'gray'),\n",
    "plt.subplot(236), plt.imshow(Cores_A[5],'gray'),\n",
    "\n",
    "#Title\n",
    "plt.suptitle('Ischemia Core Information', fontsize=16)\n",
    "\n",
    "plt.show()"
   ]
  },
  {
   "cell_type": "code",
   "execution_count": null,
   "metadata": {},
   "outputs": [],
   "source": [
    "plt.figure()\n",
    "\n",
    "#Original Images\n",
    "plt.subplot(231), plt.imshow(B[0], 'gray'), plt.title(filename_B[0]),\n",
    "plt.subplot(232), plt.imshow(B[1], 'gray'), plt.title(filename_B[1]),\n",
    "plt.subplot(233), plt.imshow(B[5], 'gray'), plt.title(filename_B[5]),\n",
    "\n",
    "#Deep Images\n",
    "plt.subplot(234), plt.imshow(Cores_B[0],'gray'),\n",
    "plt.subplot(235), plt.imshow(Cores_B[1],'gray'),\n",
    "plt.subplot(236), plt.imshow(Cores_B[5],'gray'),\n",
    "\n",
    "#Title\n",
    "plt.suptitle('Postcon1 Core Information', fontsize=16)\n",
    "\n",
    "plt.show()"
   ]
  },
  {
   "cell_type": "code",
   "execution_count": null,
   "metadata": {},
   "outputs": [],
   "source": [
    "plt.figure()\n",
    "\n",
    "#Original Images\n",
    "plt.subplot(231), plt.imshow(C[0], 'gray'), plt.title(filename_C[0]),\n",
    "plt.subplot(232), plt.imshow(C[1], 'gray'), plt.title(filename_C[1]),\n",
    "plt.subplot(233), plt.imshow(C[5], 'gray'), plt.title(filename_C[5]),\n",
    "\n",
    "#Deep Images\n",
    "plt.subplot(234), plt.imshow(Cores_C[0],'gray'),\n",
    "plt.subplot(235), plt.imshow(Cores_C[1],'gray'),\n",
    "plt.subplot(236), plt.imshow(Cores_C[5],'gray'),\n",
    "\n",
    "#Title\n",
    "plt.suptitle('Postcon2 Core Information', fontsize=16)\n",
    "\n",
    "plt.show()"
   ]
  },
  {
   "cell_type": "markdown",
   "metadata": {},
   "source": [
    "### Mean of each core\n",
    "\n",
    "Needed to know the ischemia ranges that we have to apply"
   ]
  },
  {
   "cell_type": "markdown",
   "metadata": {},
   "source": [
    "### ·Sham"
   ]
  },
  {
   "cell_type": "code",
   "execution_count": null,
   "metadata": {
    "scrolled": true
   },
   "outputs": [],
   "source": [
    "for i in range(len(O)):\n",
    "    plt.figure()\n",
    "    plt.imshow(pt.Mean_coloring(Cores_O[i], Deeps_O[i], Comp_O[i]), cmap = \"gray\")"
   ]
  },
  {
   "cell_type": "markdown",
   "metadata": {},
   "source": [
    "### ·Ischemia"
   ]
  },
  {
   "cell_type": "code",
   "execution_count": null,
   "metadata": {
    "scrolled": true
   },
   "outputs": [],
   "source": [
    "for i in range(len(A)):\n",
    "    plt.figure()\n",
    "    plt.imshow(pt.Mean_coloring(Cores_A[i], Deeps_A[i], Comp_A[i]), cmap = \"gray\")"
   ]
  },
  {
   "cell_type": "markdown",
   "metadata": {},
   "source": [
    "### ·Postcon_1"
   ]
  },
  {
   "cell_type": "code",
   "execution_count": null,
   "metadata": {
    "scrolled": true
   },
   "outputs": [],
   "source": [
    "for i in range(len(B)):\n",
    "    plt.figure()\n",
    "    plt.imshow(pt.Mean_coloring(Cores_B[i], Deeps_B[i], Comp_B[i]), cmap = \"gray\")"
   ]
  },
  {
   "cell_type": "markdown",
   "metadata": {},
   "source": [
    "### ·Postcon_2"
   ]
  },
  {
   "cell_type": "code",
   "execution_count": null,
   "metadata": {
    "scrolled": true
   },
   "outputs": [],
   "source": [
    "for i in range(len(C)):\n",
    "    plt.figure()\n",
    "    plt.imshow(pt.Mean_coloring(Cores_C[i], Deeps_C[i], Comp_C[i]), cmap = \"gray\")"
   ]
  },
  {
   "cell_type": "markdown",
   "metadata": {},
   "source": [
    "# Color Groups"
   ]
  },
  {
   "cell_type": "markdown",
   "metadata": {},
   "source": [
    "### ·Sham"
   ]
  },
  {
   "cell_type": "code",
   "execution_count": null,
   "metadata": {
    "scrolled": true
   },
   "outputs": [],
   "source": [
    "#Color cuantification O\n",
    "RGB_Images_O, Red_Density_O, Yellow_Density_O, Green_Density_O, Shapes_O = pt.Color_Cuantification (O, Cores_O, Deeps_O, Comp_O, Ischemia_Range = [25, 50])"
   ]
  },
  {
   "cell_type": "markdown",
   "metadata": {},
   "source": [
    "### ·Ischemia"
   ]
  },
  {
   "cell_type": "code",
   "execution_count": null,
   "metadata": {
    "scrolled": true
   },
   "outputs": [],
   "source": [
    "#Color cuantification A\n",
    "RGB_Images_A, Red_Density_A, Yellow_Density_A, Green_Density_A, Shapes_A = pt.Color_Cuantification (A, Cores_A, Deeps_A, Comp_A, Ischemia_Range = [25, 50])"
   ]
  },
  {
   "cell_type": "markdown",
   "metadata": {},
   "source": [
    "### ·Postcon_1"
   ]
  },
  {
   "cell_type": "code",
   "execution_count": null,
   "metadata": {},
   "outputs": [],
   "source": [
    "#Color cuantification B\n",
    "RGB_Images_B, Red_Density_B, Yellow_Density_B, Green_Density_B, Shapes_B = pt.Color_Cuantification (B, Cores_B, Deeps_B, Comp_B, Ischemia_Range = [20, 40])"
   ]
  },
  {
   "cell_type": "markdown",
   "metadata": {},
   "source": [
    "### ·Postcon_2"
   ]
  },
  {
   "cell_type": "code",
   "execution_count": null,
   "metadata": {},
   "outputs": [],
   "source": [
    "RGB_Images_C, Red_Density_C, Yellow_Density_C, Green_Density_C, Shapes_C = pt.Color_Cuantification (C, Cores_C, Deeps_C, Comp_C, Ischemia_Range = [15, 30])"
   ]
  },
  {
   "cell_type": "markdown",
   "metadata": {},
   "source": [
    "# Plot Color Images"
   ]
  },
  {
   "cell_type": "markdown",
   "metadata": {},
   "source": [
    "### ·Sham"
   ]
  },
  {
   "cell_type": "code",
   "execution_count": null,
   "metadata": {},
   "outputs": [],
   "source": [
    "#Ischemia colored images\n",
    "plt.figure()\n",
    "plt.suptitle('Sham')\n",
    "for i in range (len(RGB_Images_O)):\n",
    "    plt.subplot(4, 4, i+1), plt.imshow(RGB_Images_O[i]), plt.title(filename_O[i]) \n",
    "    \n",
    "plt.show()"
   ]
  },
  {
   "cell_type": "markdown",
   "metadata": {},
   "source": [
    "### ·Ischemia"
   ]
  },
  {
   "cell_type": "code",
   "execution_count": null,
   "metadata": {},
   "outputs": [],
   "source": [
    "#Ischemia colored images\n",
    "plt.figure()\n",
    "plt.suptitle('Ischemia')\n",
    "for i in range (len(RGB_Images_A)):\n",
    "    plt.subplot(5, 4, i+1), plt.imshow(RGB_Images_A[i]), plt.title(filename_A[i]) \n",
    "    \n",
    "plt.show()"
   ]
  },
  {
   "cell_type": "markdown",
   "metadata": {},
   "source": [
    "### ·Postcon_1"
   ]
  },
  {
   "cell_type": "code",
   "execution_count": null,
   "metadata": {},
   "outputs": [],
   "source": [
    "#Postcon 1 colored images\n",
    "plt.figure()\n",
    "plt.suptitle('Postcon 1')\n",
    "\n",
    "for i in range (len(RGB_Images_B)):\n",
    "    plt.subplot(4, 4, i+1), plt.imshow(RGB_Images_B[i]), plt.title(filename_B[i]) \n",
    "plt.show()"
   ]
  },
  {
   "cell_type": "markdown",
   "metadata": {},
   "source": [
    "### ·Postcon_2"
   ]
  },
  {
   "cell_type": "code",
   "execution_count": null,
   "metadata": {},
   "outputs": [],
   "source": [
    "#Postcon 2 colored images\n",
    "plt.figure()\n",
    "plt.suptitle('Postcon 2')\n",
    "\n",
    "for i in range (len(RGB_Images_C)):\n",
    "    plt.subplot(4, 4, i+1), plt.imshow(RGB_Images_C[i]), plt.title(filename_C[i]) \n",
    "plt.show()"
   ]
  },
  {
   "cell_type": "markdown",
   "metadata": {},
   "source": [
    "# Parameters"
   ]
  },
  {
   "cell_type": "code",
   "execution_count": null,
   "metadata": {},
   "outputs": [],
   "source": [
    "#Calculate the vessel area for each group\n",
    "Area_A = pt.Vessel_Area(Cores_A)\n",
    "Area_B = pt.Vessel_Area(Cores_B)\n",
    "Area_C = pt.Vessel_Area(Cores_C)"
   ]
  },
  {
   "cell_type": "code",
   "execution_count": null,
   "metadata": {},
   "outputs": [],
   "source": [
    "#Days\n",
    "Days_A = np.arange(0, len(A)-1, 1.0)\n",
    "Days_B = np.array([0, 1, 2, 3, 4, 5, 6, 7, 8, 9, 10, 11, 13, 14])\n",
    "Days_C = np.array([0, 1, 2, 3, 4, 5, 6, 7, 8, 10, 11, 12, 13])"
   ]
  },
  {
   "cell_type": "markdown",
   "metadata": {},
   "source": [
    "### Initial Damage"
   ]
  },
  {
   "cell_type": "code",
   "execution_count": null,
   "metadata": {},
   "outputs": [],
   "source": [
    "print('Ischemia: -{} %'.format(pt.Initial_DMG(Area_A)))\n",
    "print('Postcon 1: -{} %'.format(pt.Initial_DMG(Area_B)))\n",
    "print('Postcon 2: -{} %'.format(pt.Initial_DMG(Area_C)))"
   ]
  },
  {
   "cell_type": "markdown",
   "metadata": {},
   "source": [
    "### Total Recovery"
   ]
  },
  {
   "cell_type": "code",
   "execution_count": null,
   "metadata": {},
   "outputs": [],
   "source": [
    "print('Ischemia: {} %'.format(pt.Total_Recovery(Area_A)))\n",
    "print('Postcon 1: {} %'.format(pt.Total_Recovery(Area_B)))\n",
    "print('Postcon 2: {} %'.format(pt.Total_Recovery(Area_C)))"
   ]
  },
  {
   "cell_type": "markdown",
   "metadata": {},
   "source": [
    "### Recovery Speed"
   ]
  },
  {
   "cell_type": "code",
   "execution_count": null,
   "metadata": {},
   "outputs": [],
   "source": [
    "print('Ischemia: {} % per day'.format(pt.Recovery_Speed(Area_A)))\n",
    "print('Postcon 1: {} % per day'.format(pt.Recovery_Speed(Area_B)))\n",
    "print('Postcon 2: {} % per day'.format(pt.Recovery_Speed(Area_C)))"
   ]
  },
  {
   "cell_type": "markdown",
   "metadata": {},
   "source": [
    "# Graphs \n",
    "## ·Lines\n",
    "### -Vessel Area"
   ]
  },
  {
   "cell_type": "code",
   "execution_count": null,
   "metadata": {},
   "outputs": [],
   "source": [
    "#Vessels Area\n",
    "plt.figure()\n",
    "plt.plot(Days_A, Area_A, label = 'Ischemia'), plt.plot(Days_B, Area_B, label = 'Postcon 1'), plt.plot(Days_C, Area_C, label = 'Postcon 2'), plt.title('Vessels Area'), plt.ylabel('Area'), plt.legend()\n",
    "plt.scatter(Days_A, Area_A), plt.scatter(Days_B, Area_B), plt.scatter(Days_C, Area_C)\n",
    "plt.xticks(Days_A, filename_A)\n",
    "plt.show()"
   ]
  },
  {
   "cell_type": "markdown",
   "metadata": {},
   "source": [
    "## ·Columns\n",
    "\n",
    "### -By color"
   ]
  },
  {
   "cell_type": "code",
   "execution_count": null,
   "metadata": {},
   "outputs": [],
   "source": [
    "labels = filename_A[1:]\n",
    "Ischemia = np.divide(Red_Density_A[1:], Shapes_A[1:])\n",
    "Postcon1 = np.divide(Red_Density_B[1:], Shapes_B[1:])\n",
    "Postcon2 = np.divide(Red_Density_C[1:], Shapes_C[1:])\n",
    "\n",
    "width = 0.2  # the width of the bars\n",
    "\n",
    "fig, ax = plt.subplots()\n",
    "\n",
    "rects1 = ax.bar(Days_A - width, Ischemia, width, label='Ischemia')\n",
    "rects2 = ax.bar(Days_B, Postcon1, width, label='Postcon1')\n",
    "rects3 = ax.bar(Days_C + width, Postcon2, width, label='Postcon2')\n",
    "lines1 = ax.plot(Days_A - width, Ischemia)\n",
    "lines2 = ax.plot(Days_B, Postcon1)\n",
    "lines3 = ax.plot(Days_C + width, Postcon2)\n",
    "\n",
    "# Add some text for labels, title and custom x-axis tick labels, etc.\n",
    "ax.set_ylabel('Area')\n",
    "ax.set_title('High Ischemia Area')\n",
    "ax.set_xticks(Days_A)\n",
    "ax.set_xticklabels(labels)\n",
    "ax.legend()\n",
    "\n",
    "\n",
    "#fig.tight_layout()\n",
    "\n",
    "plt.show()"
   ]
  },
  {
   "cell_type": "code",
   "execution_count": null,
   "metadata": {},
   "outputs": [],
   "source": [
    "labels = filename_A[1:]\n",
    "Ischemia = np.divide(Yellow_Density_A[1:], Shapes_A[1:])\n",
    "Postcon1 = np.divide(Yellow_Density_B[1:], Shapes_B[1:])\n",
    "Postcon2 = np.divide(Yellow_Density_C[1:], Shapes_C[1:])\n",
    "\n",
    "width = 0.2  # the width of the bars\n",
    "\n",
    "fig, ax = plt.subplots()\n",
    "\n",
    "rects1 = ax.bar(Days_A - width, Ischemia, width, label='Ischemia')\n",
    "rects2 = ax.bar(Days_B, Postcon1, width, label='Postcon1')\n",
    "rects3 = ax.bar(Days_C + width, Postcon2, width, label='Postcon2')\n",
    "lines1 = ax.plot(Days_A - width, Ischemia)\n",
    "lines2 = ax.plot(Days_B, Postcon1)\n",
    "lines3 = ax.plot(Days_C + width, Postcon2)\n",
    "\n",
    "# Add some text for labels, title and custom x-axis tick labels, etc.\n",
    "ax.set_ylabel('Area')\n",
    "ax.set_title('Low Ischemia Area')\n",
    "ax.set_xticks(Days_A)\n",
    "ax.set_xticklabels(labels)\n",
    "ax.legend()\n",
    "\n",
    "\n",
    "#fig.tight_layout()\n",
    "\n",
    "plt.show()"
   ]
  },
  {
   "cell_type": "code",
   "execution_count": null,
   "metadata": {},
   "outputs": [],
   "source": [
    "labels = filename_A[1:]\n",
    "Ischemia = np.divide(Green_Density_A[1:], Shapes_A[1:])\n",
    "Postcon1 = np.divide(Green_Density_B[1:], Shapes_B[1:])\n",
    "Postcon2 = np.divide(Green_Density_C[1:], Shapes_C[1:])\n",
    "\n",
    "width = 0.2  # the width of the bars\n",
    "\n",
    "fig, ax = plt.subplots()\n",
    "\n",
    "rects1 = ax.bar(Days_A - width, Ischemia, width, label='Ischemia')\n",
    "rects2 = ax.bar(Days_B, Postcon1, width, label='Postcon1')\n",
    "rects3 = ax.bar(Days_C + width, Postcon2, width, label='Postcon2')\n",
    "lines1 = ax.plot(Days_A - width, Ischemia)\n",
    "lines2 = ax.plot(Days_B, Postcon1)\n",
    "lines3 = ax.plot(Days_C + width, Postcon2)\n",
    "\n",
    "\n",
    "# Add some text for labels, title and custom x-axis tick labels, etc.\n",
    "ax.set_ylabel('Area')\n",
    "ax.set_title('No Ischemia Area')\n",
    "ax.set_xticks(Days_A)\n",
    "ax.set_xticklabels(labels)\n",
    "ax.legend()\n",
    "\n",
    "\n",
    "#fig.tight_layout()\n",
    "\n",
    "plt.show()"
   ]
  },
  {
   "cell_type": "markdown",
   "metadata": {},
   "source": [
    "### -By Group"
   ]
  },
  {
   "cell_type": "code",
   "execution_count": null,
   "metadata": {
    "scrolled": false
   },
   "outputs": [],
   "source": [
    "labels = filename_A\n",
    "Green = np.divide(Green_Density_A, Shapes_A)\n",
    "Yellow = np.divide(Yellow_Density_A, Shapes_A)\n",
    "Red = np.divide(Red_Density_A, Shapes_A)\n",
    "\n",
    "width = 0.2  # the width of the bars\n",
    "\n",
    "fig, ax = plt.subplots()\n",
    "\n",
    "rects1 = ax.bar(Days_A - width, Green, width, label='No Ischemia', color = 'green')\n",
    "rects2 = ax.bar(Days_A, Yellow, width, label='Low Ischemia', color = 'y')\n",
    "rects4 = ax.bar(Days_A + width, Red, width, label='High Ischemia', color = 'red')\n",
    "\n",
    "# Add some text for labels, title and custom x-axis tick labels, etc.\n",
    "ax.set_ylabel('Area')\n",
    "ax.set_title('Ischemia')\n",
    "ax.set_xticks(Days_A)\n",
    "ax.set_xticklabels(labels)\n",
    "ax.legend()\n",
    "\n",
    "\n",
    "#fig.tight_layout()\n",
    "\n",
    "plt.show()"
   ]
  },
  {
   "cell_type": "code",
   "execution_count": null,
   "metadata": {},
   "outputs": [],
   "source": [
    "labels = filename_A\n",
    "Green = np.divide(Green_Density_B, Shapes_B)\n",
    "Yellow = np.divide(Yellow_Density_B, Shapes_B)\n",
    "Red = np.divide(Red_Density_B, Shapes_B)\n",
    "\n",
    "width = 0.2  # the width of the bars\n",
    "\n",
    "fig, ax = plt.subplots()\n",
    "\n",
    "rects1 = ax.bar(Days_B - width, Green, width, label='No Ischemia', color = 'green')\n",
    "rects2 = ax.bar(Days_B, Yellow, width, label='Low Ischemia', color = 'y')\n",
    "rects4 = ax.bar(Days_B + width, Red, width, label='High Ischemia', color = 'red')\n",
    "\n",
    "# Add some text for labels, title and custom x-axis tick labels, etc.\n",
    "ax.set_ylabel('Area')\n",
    "ax.set_title('Postcon 1')\n",
    "ax.set_xticks(Days_A)\n",
    "ax.set_xticklabels(labels)\n",
    "ax.legend()\n",
    "\n",
    "\n",
    "#fig.tight_layout()\n",
    "\n",
    "plt.show()"
   ]
  },
  {
   "cell_type": "code",
   "execution_count": null,
   "metadata": {},
   "outputs": [],
   "source": [
    "labels = filename_A\n",
    "Green = np.divide(Green_Density_C, Shapes_C)\n",
    "Yellow = np.divide(Yellow_Density_C, Shapes_C)\n",
    "Red = np.divide(Red_Density_C, Shapes_C)\n",
    "\n",
    "width = 0.2  # the width of the bars\n",
    "\n",
    "fig, ax = plt.subplots()\n",
    "\n",
    "rects1 = ax.bar(Days_C - width, Green, width, label='No Ischemia', color = 'green')\n",
    "rects2 = ax.bar(Days_C, Yellow, width, label='Low Ischemia', color = 'y')\n",
    "rects4 = ax.bar(Days_C + width, Red, width, label='High Ischemia', color = 'red')\n",
    "\n",
    "# Add some text for labels, title and custom x-axis tick labels, etc.\n",
    "ax.set_ylabel('Area')\n",
    "ax.set_title('Postcon 2')\n",
    "ax.set_xticks(Days_A)\n",
    "ax.set_xticklabels(labels)\n",
    "ax.legend()\n",
    "\n",
    "\n",
    "#fig.tight_layout()\n",
    "\n",
    "plt.show()"
   ]
  },
  {
   "cell_type": "markdown",
   "metadata": {},
   "source": [
    "### - Stacked Columns\n",
    "#### · Number of Pixels"
   ]
  },
  {
   "cell_type": "code",
   "execution_count": null,
   "metadata": {
    "scrolled": false
   },
   "outputs": [],
   "source": [
    "labels = filename_A\n",
    "Green = np.divide(Green_Density_A, Shapes_A)\n",
    "Yellow = np.divide(Yellow_Density_A, Shapes_A)\n",
    "Red = np.divide(Red_Density_A, Shapes_A)\n",
    "\n",
    "width = 0.4  # the width of the bars\n",
    "\n",
    "fig, ax = plt.subplots()\n",
    "\n",
    "rects1 = ax.bar(Days_A, Green, width, label='No Ischemia', color = 'green')\n",
    "rects2 = ax.bar(Days_A, Yellow, width, bottom=Green, label='Low Ischemia', color = 'y')\n",
    "rects3 = ax.bar(Days_A, Red, width, bottom=Green+Yellow, label='High Ischemia', color = 'red')\n",
    "\n",
    "# Add some text for labels, title and custom x-axis tick labels, etc.\n",
    "ax.set_ylabel('Area')\n",
    "ax.set_title('Ischemia')\n",
    "ax.set_xticks(Days_A)\n",
    "ax.set_xticklabels(labels)\n",
    "ax.legend()\n",
    "\n",
    "\n",
    "#fig.tight_layout()\n",
    "\n",
    "plt.show()"
   ]
  },
  {
   "cell_type": "code",
   "execution_count": null,
   "metadata": {},
   "outputs": [],
   "source": [
    "labels = filename_A\n",
    "Green = np.divide(Green_Density_B, Shapes_B)\n",
    "Yellow = np.divide(Yellow_Density_B, Shapes_B)\n",
    "Red = np.divide(Red_Density_B, Shapes_B)\n",
    "\n",
    "width = 0.4  # the width of the bars\n",
    "\n",
    "fig, ax = plt.subplots()\n",
    "\n",
    "rects1 = ax.bar(Days_B, Green, width, label='No Ischemia', color = 'green')\n",
    "rects2 = ax.bar(Days_B, Yellow, width, bottom=Green, label='Low Ischemia', color = 'y')\n",
    "rects4 = ax.bar(Days_B, Red, width, bottom=Green+Yellow, label='High Ischemia', color = 'red')\n",
    "\n",
    "# Add some text for labels, title and custom x-axis tick labels, etc.\n",
    "ax.set_ylabel('Area')\n",
    "ax.set_title('Postcon 1')\n",
    "ax.set_xticks(Days_A)\n",
    "ax.set_xticklabels(labels)\n",
    "ax.legend()\n",
    "\n",
    "\n",
    "#fig.tight_layout()\n",
    "\n",
    "plt.show()"
   ]
  },
  {
   "cell_type": "code",
   "execution_count": null,
   "metadata": {},
   "outputs": [],
   "source": [
    "labels = filename_A\n",
    "Green = np.divide(Green_Density_C, Shapes_C)\n",
    "Yellow = np.divide(Yellow_Density_C, Shapes_C)\n",
    "Red = np.divide(Red_Density_C, Shapes_C)\n",
    "\n",
    "width = 0.4  # the width of the bars\n",
    "\n",
    "fig, ax = plt.subplots()\n",
    "\n",
    "rects1 = ax.bar(Days_C, Green, width, label='No Ischemia', color = 'green')\n",
    "rects2 = ax.bar(Days_C, Yellow, width, bottom=Green, label='Low Ischemia', color = 'y')\n",
    "rects4 = ax.bar(Days_C, Red, width, bottom=Green+Yellow, label='High Ischemia', color = 'red')\n",
    "\n",
    "# Add some text for labels, title and custom x-axis tick labels, etc.\n",
    "ax.set_ylabel('Area')\n",
    "ax.set_title('Postcon 2')\n",
    "ax.set_xticks(Days_A)\n",
    "ax.set_xticklabels(labels)\n",
    "ax.legend()\n",
    "\n",
    "\n",
    "#fig.tight_layout()\n",
    "\n",
    "plt.show()"
   ]
  }
 ],
 "metadata": {
  "kernelspec": {
   "display_name": "Python 3",
   "language": "python",
   "name": "python3"
  },
  "language_info": {
   "codemirror_mode": {
    "name": "ipython",
    "version": 3
   },
   "file_extension": ".py",
   "mimetype": "text/x-python",
   "name": "python",
   "nbconvert_exporter": "python",
   "pygments_lexer": "ipython3",
   "version": "3.8.3"
  }
 },
 "nbformat": 4,
 "nbformat_minor": 2
}
